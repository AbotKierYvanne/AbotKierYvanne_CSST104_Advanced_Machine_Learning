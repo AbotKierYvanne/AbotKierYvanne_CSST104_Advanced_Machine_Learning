{
  "nbformat": 4,
  "nbformat_minor": 0,
  "metadata": {
    "colab": {
      "provenance": []
    },
    "kernelspec": {
      "name": "python3",
      "display_name": "Python 3"
    },
    "language_info": {
      "name": "python"
    }
  },
  "cells": [
    {
      "cell_type": "markdown",
      "source": [
        "**1. Install the latest version of automata library**"
      ],
      "metadata": {
        "id": "zYLqE33gB0KB"
      }
    },
    {
      "cell_type": "code",
      "execution_count": null,
      "metadata": {
        "colab": {
          "base_uri": "https://localhost:8080/"
        },
        "id": "d41fgflfBwEA",
        "outputId": "55709d56-abfe-42ed-f52c-c354edf86583"
      },
      "outputs": [
        {
          "output_type": "stream",
          "name": "stdout",
          "text": [
            "Collecting automata-lib\n",
            "  Downloading automata_lib-8.3.0-py3-none-any.whl (124 kB)\n",
            "\u001b[?25l     \u001b[90m━━━━━━━━━━━━━━━━━━━━━━━━━━━━━━━━━━━━━━━━\u001b[0m \u001b[32m0.0/124.3 kB\u001b[0m \u001b[31m?\u001b[0m eta \u001b[36m-:--:--\u001b[0m\r\u001b[2K     \u001b[91m━━━━━━━━━━━━━━━━━━━\u001b[0m\u001b[91m╸\u001b[0m\u001b[90m━━━━━━━━━━━━━━━━━━━━\u001b[0m \u001b[32m61.4/124.3 kB\u001b[0m \u001b[31m1.7 MB/s\u001b[0m eta \u001b[36m0:00:01\u001b[0m\r\u001b[2K     \u001b[90m━━━━━━━━━━━━━━━━━━━━━━━━━━━━━━━━━━━━━━━━\u001b[0m \u001b[32m124.3/124.3 kB\u001b[0m \u001b[31m1.9 MB/s\u001b[0m eta \u001b[36m0:00:00\u001b[0m\n",
            "\u001b[?25hRequirement already satisfied: networkx>=2.6.2 in /usr/local/lib/python3.10/dist-packages (from automata-lib) (3.3)\n",
            "Requirement already satisfied: frozendict>=2.3.4 in /usr/local/lib/python3.10/dist-packages (from automata-lib) (2.4.2)\n",
            "Requirement already satisfied: typing-extensions>=4.5.0 in /usr/local/lib/python3.10/dist-packages (from automata-lib) (4.11.0)\n",
            "Collecting cached-method>=0.1.0 (from automata-lib)\n",
            "  Downloading cached_method-0.1.0-py3-none-any.whl (4.2 kB)\n",
            "Installing collected packages: cached-method, automata-lib\n",
            "Successfully installed automata-lib-8.3.0 cached-method-0.1.0\n"
          ]
        }
      ],
      "source": [
        "pip install automata-lib"
      ]
    },
    {
      "cell_type": "markdown",
      "source": [
        "**2. Import the DFA class from the autmata.fa.dfa module**"
      ],
      "metadata": {
        "id": "gAtXBVDnB6gX"
      }
    },
    {
      "cell_type": "code",
      "source": [
        "from automata.fa.nfa import NFA"
      ],
      "metadata": {
        "id": "_JgW1YFCB6wb"
      },
      "execution_count": null,
      "outputs": []
    },
    {
      "cell_type": "markdown",
      "source": [
        "**3. Define the DFA with its states.**\n",
        "\n",
        "* **states:**\n",
        "* **input symbols**\n",
        "* **transitions**\n",
        "* **initials states**\n",
        "* **final states**"
      ],
      "metadata": {
        "id": "bKJDNZgZB-V6"
      }
    },
    {
      "cell_type": "code",
      "source": [
        "nfa_example= NFA(   states = {'q0','q1','q2'},\n",
        "    input_symbols = {'0','1'},\n",
        "    transitions={\n",
        "        'q0':{'0':{'q0','q1'}},\n",
        "        'q1':{'1':{'q2'}},\n",
        "        'q2':{},\n",
        "    },\n",
        "    initial_state='q0',\n",
        "    final_states={'q0','q2'})"
      ],
      "metadata": {
        "id": "y0-wFZGWB-mO"
      },
      "execution_count": null,
      "outputs": []
    },
    {
      "cell_type": "markdown",
      "source": [
        "**4. Define a functions is_accepted to check if a given input string is accepted by the DFA**"
      ],
      "metadata": {
        "id": "N7cejXNqCC6Y"
      }
    },
    {
      "cell_type": "code",
      "source": [
        "def is_accepted_example(input_str):\n",
        "  return nfa_example.accepts_input(input_str)"
      ],
      "metadata": {
        "id": "8_WilrpqCDGk"
      },
      "execution_count": null,
      "outputs": []
    },
    {
      "cell_type": "markdown",
      "source": [
        "**5. Test the DFA with a list of strings.**"
      ],
      "metadata": {
        "id": "F_aHidm4CGpL"
      }
    },
    {
      "cell_type": "code",
      "source": [
        "test_strings = {'0001', '1001', '1000', '1011', '0101'}\n",
        "\n",
        "for test_str in test_strings:\n",
        "    if is_accepted_example(test_str):\n",
        "        print(f'String \"{test_str}\" is accepted.')\n",
        "    else:\n",
        "        print(f'String \"{test_str}\" is not accepted.')\n"
      ],
      "metadata": {
        "colab": {
          "base_uri": "https://localhost:8080/"
        },
        "id": "sBxn3Zq7CG1A",
        "outputId": "5208bd2f-4057-4e37-947b-16d908164367"
      },
      "execution_count": null,
      "outputs": [
        {
          "output_type": "stream",
          "name": "stdout",
          "text": [
            "String \"0001\" is accepted.\n",
            "String \"0101\" is not accepted.\n",
            "String \"1000\" is not accepted.\n",
            "String \"1001\" is not accepted.\n",
            "String \"1011\" is not accepted.\n"
          ]
        }
      ]
    }
  ]
}